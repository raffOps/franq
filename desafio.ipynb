{
 "cells": [
  {
   "cell_type": "code",
   "execution_count": 56,
   "metadata": {
    "ExecuteTime": {
     "end_time": "2023-06-02T22:07:11.058415461Z",
     "start_time": "2023-06-02T22:07:11.055112210Z"
    }
   },
   "outputs": [],
   "source": [
    "import pandas as pd"
   ]
  },
  {
   "cell_type": "code",
   "execution_count": 57,
   "metadata": {
    "collapsed": false,
    "jupyter": {
     "outputs_hidden": false
    },
    "ExecuteTime": {
     "end_time": "2023-06-02T22:07:11.369228269Z",
     "start_time": "2023-06-02T22:07:11.363225134Z"
    }
   },
   "outputs": [],
   "source": [
    "vendas = pd.read_csv(\"data/base_vendas.csv\", sep=\";\")\n",
    "vendas = vendas.drop(columns=[\"Unnamed: 10\"])"
   ]
  },
  {
   "cell_type": "code",
   "execution_count": 58,
   "outputs": [
    {
     "data": {
      "text/plain": "  data_solicitacao  data_venda  data_pagto valor_venda pol_comissao  \\\n0       13/01/2021  12/01/2021  01/02/2021         un.       750.00   \n1       14/02/2021  16/02/2021  01/03/2021         un.       750.00   \n2       17/02/2021  18/02/2021  01/03/2021         un.       750.00   \n3       21/03/2021  25/03/2021  01/04/2021         un.       750.00   \n4       29/01/2021  31/01/2021  01/03/2021         un.       750.00   \n\n  valor_comissao estado_cliente estado_vendedor produto vendedor_id  \n0             SC             PR               A     V_1         NaN  \n1             SC             PR               A     V_1         NaN  \n2             PR              A            V_23     NaN         NaN  \n3             PR              A            V_23     NaN         NaN  \n4             PR              A            V_30     NaN         NaN  ",
      "text/html": "<div>\n<style scoped>\n    .dataframe tbody tr th:only-of-type {\n        vertical-align: middle;\n    }\n\n    .dataframe tbody tr th {\n        vertical-align: top;\n    }\n\n    .dataframe thead th {\n        text-align: right;\n    }\n</style>\n<table border=\"1\" class=\"dataframe\">\n  <thead>\n    <tr style=\"text-align: right;\">\n      <th></th>\n      <th>data_solicitacao</th>\n      <th>data_venda</th>\n      <th>data_pagto</th>\n      <th>valor_venda</th>\n      <th>pol_comissao</th>\n      <th>valor_comissao</th>\n      <th>estado_cliente</th>\n      <th>estado_vendedor</th>\n      <th>produto</th>\n      <th>vendedor_id</th>\n    </tr>\n  </thead>\n  <tbody>\n    <tr>\n      <th>0</th>\n      <td>13/01/2021</td>\n      <td>12/01/2021</td>\n      <td>01/02/2021</td>\n      <td>un.</td>\n      <td>750.00</td>\n      <td>SC</td>\n      <td>PR</td>\n      <td>A</td>\n      <td>V_1</td>\n      <td>NaN</td>\n    </tr>\n    <tr>\n      <th>1</th>\n      <td>14/02/2021</td>\n      <td>16/02/2021</td>\n      <td>01/03/2021</td>\n      <td>un.</td>\n      <td>750.00</td>\n      <td>SC</td>\n      <td>PR</td>\n      <td>A</td>\n      <td>V_1</td>\n      <td>NaN</td>\n    </tr>\n    <tr>\n      <th>2</th>\n      <td>17/02/2021</td>\n      <td>18/02/2021</td>\n      <td>01/03/2021</td>\n      <td>un.</td>\n      <td>750.00</td>\n      <td>PR</td>\n      <td>A</td>\n      <td>V_23</td>\n      <td>NaN</td>\n      <td>NaN</td>\n    </tr>\n    <tr>\n      <th>3</th>\n      <td>21/03/2021</td>\n      <td>25/03/2021</td>\n      <td>01/04/2021</td>\n      <td>un.</td>\n      <td>750.00</td>\n      <td>PR</td>\n      <td>A</td>\n      <td>V_23</td>\n      <td>NaN</td>\n      <td>NaN</td>\n    </tr>\n    <tr>\n      <th>4</th>\n      <td>29/01/2021</td>\n      <td>31/01/2021</td>\n      <td>01/03/2021</td>\n      <td>un.</td>\n      <td>750.00</td>\n      <td>PR</td>\n      <td>A</td>\n      <td>V_30</td>\n      <td>NaN</td>\n      <td>NaN</td>\n    </tr>\n  </tbody>\n</table>\n</div>"
     },
     "execution_count": 58,
     "metadata": {},
     "output_type": "execute_result"
    }
   ],
   "source": [
    "vendas.head()"
   ],
   "metadata": {
    "collapsed": false,
    "ExecuteTime": {
     "end_time": "2023-06-02T22:07:11.693791499Z",
     "start_time": "2023-06-02T22:07:11.689017602Z"
    }
   }
  },
  {
   "cell_type": "code",
   "execution_count": 59,
   "outputs": [
    {
     "data": {
      "text/plain": "   vendedor_id data_de_entrada  idade  carga_horaria_diaria  \\\n0          V_1      14/06/2016     27                     8   \n1         V_10      15/09/2011     50                     6   \n2         V_11      23/07/2011     47                     6   \n3         V_12      16/09/2016     43                     6   \n4         V_13      11/08/2014     25                     8   \n5         V_14      07/06/2016     22                     8   \n6         V_15      07/11/2019     32                     8   \n7         V_16      16/08/2012     49                     8   \n8         V_17      25/06/2016     22                     8   \n9         V_18      23/02/2019     20                     6   \n10        V_19      19/03/2016     39                     6   \n11         V_2      18/12/2019     22                     6   \n12        V_20      18/04/2017     34                     8   \n13        V_21      27/08/2010     35                     6   \n14        V_22      09/11/2011     26                     6   \n15        V_23      18/11/2015     26                     6   \n16        V_24      22/02/2019     22                     8   \n17        V_25      27/05/2012     32                     8   \n18        V_26      22/09/2013     28                     6   \n19        V_27      19/10/2015     37                     8   \n20         V_3      17/02/2013     48                     6   \n21        V_30      06/01/2011     20                     6   \n22        V_31      17/10/2019     47                     6   \n23        V_32      12/08/2013     33                     8   \n24        V_34      30/05/2010     39                     6   \n25        V_36      22/05/2010     22                     6   \n26        V_39      29/02/2012     23                     6   \n27         V_4      19/08/2014     46                     8   \n28        V_40      28/04/2018     38                     8   \n29        V_41      27/02/2015     41                     6   \n30        V_45      07/10/2017     33                     6   \n31        V_46      29/07/2015     35                     8   \n32        V_47      08/08/2011     29                     6   \n33         V_5      01/09/2010     49                     6   \n34         V_6      15/08/2011     45                     6   \n35         V_7      11/02/2017     50                     8   \n36         V_8      08/02/2019     46                     8   \n37         V_9      28/09/2018     31                     8   \n\n                escolaridade  salario_bruto  \n0      Ensino Médio Completo   R$ 1,750.00   \n1      Ensino Médio Completo   R$ 1,750.00   \n2      Ensino Médio Completo   R$ 1,750.00   \n3      Ensino Médio Completo   R$ 1,750.00   \n4      Ensino Médio Completo   R$ 1,750.00   \n5      Ensino Médio Completo   R$ 1,750.00   \n6      Ensino Médio Completo   R$ 1,750.00   \n7      Ensino Médio Completo   R$ 1,750.00   \n8      Ensino Médio Completo   R$ 1,750.00   \n9      Ensino Médio Completo   R$ 1,750.00   \n10     Ensino Médio Completo   R$ 1,750.00   \n11     Ensino Médio Completo   R$ 1,750.00   \n12     Ensino Médio Completo   R$ 1,750.00   \n13     Ensino Médio Completo   R$ 1,750.00   \n14     Ensino Médio Completo   R$ 1,750.00   \n15     Ensino Médio Completo   R$ 1,750.00   \n16     Ensino Médio Completo   R$ 1,750.00   \n17     Ensino Médio Completo   R$ 1,750.00   \n18     Ensino Médio Completo   R$ 1,750.00   \n19     Ensino Médio Completo   R$ 1,750.00   \n20  Ensino Superior Completo   R$ 2,000.00   \n21  Ensino Superior Completo   R$ 2,000.00   \n22  Ensino Superior Completo   R$ 2,000.00   \n23  Ensino Superior Completo   R$ 2,000.00   \n24  Ensino Superior Completo   R$ 2,000.00   \n25  Ensino Superior Completo   R$ 2,000.00   \n26  Ensino Superior Completo   R$ 2,000.00   \n27  Ensino Superior Completo   R$ 2,000.00   \n28  Ensino Superior Completo   R$ 2,000.00   \n29  Ensino Superior Completo   R$ 2,000.00   \n30  Ensino Superior Completo   R$ 2,000.00   \n31    Pós Graduação Completa   R$ 2,500.00   \n32    Pós Graduação Completa   R$ 2,500.00   \n33    Pós Graduação Completa   R$ 2,500.00   \n34    Pós Graduação Completa   R$ 2,500.00   \n35    Pós Graduação Completa   R$ 2,500.00   \n36    Pós Graduação Completa   R$ 2,500.00   \n37                  Mestrado   R$ 4,000.00   ",
      "text/html": "<div>\n<style scoped>\n    .dataframe tbody tr th:only-of-type {\n        vertical-align: middle;\n    }\n\n    .dataframe tbody tr th {\n        vertical-align: top;\n    }\n\n    .dataframe thead th {\n        text-align: right;\n    }\n</style>\n<table border=\"1\" class=\"dataframe\">\n  <thead>\n    <tr style=\"text-align: right;\">\n      <th></th>\n      <th>vendedor_id</th>\n      <th>data_de_entrada</th>\n      <th>idade</th>\n      <th>carga_horaria_diaria</th>\n      <th>escolaridade</th>\n      <th>salario_bruto</th>\n    </tr>\n  </thead>\n  <tbody>\n    <tr>\n      <th>0</th>\n      <td>V_1</td>\n      <td>14/06/2016</td>\n      <td>27</td>\n      <td>8</td>\n      <td>Ensino Médio Completo</td>\n      <td>R$ 1,750.00</td>\n    </tr>\n    <tr>\n      <th>1</th>\n      <td>V_10</td>\n      <td>15/09/2011</td>\n      <td>50</td>\n      <td>6</td>\n      <td>Ensino Médio Completo</td>\n      <td>R$ 1,750.00</td>\n    </tr>\n    <tr>\n      <th>2</th>\n      <td>V_11</td>\n      <td>23/07/2011</td>\n      <td>47</td>\n      <td>6</td>\n      <td>Ensino Médio Completo</td>\n      <td>R$ 1,750.00</td>\n    </tr>\n    <tr>\n      <th>3</th>\n      <td>V_12</td>\n      <td>16/09/2016</td>\n      <td>43</td>\n      <td>6</td>\n      <td>Ensino Médio Completo</td>\n      <td>R$ 1,750.00</td>\n    </tr>\n    <tr>\n      <th>4</th>\n      <td>V_13</td>\n      <td>11/08/2014</td>\n      <td>25</td>\n      <td>8</td>\n      <td>Ensino Médio Completo</td>\n      <td>R$ 1,750.00</td>\n    </tr>\n    <tr>\n      <th>5</th>\n      <td>V_14</td>\n      <td>07/06/2016</td>\n      <td>22</td>\n      <td>8</td>\n      <td>Ensino Médio Completo</td>\n      <td>R$ 1,750.00</td>\n    </tr>\n    <tr>\n      <th>6</th>\n      <td>V_15</td>\n      <td>07/11/2019</td>\n      <td>32</td>\n      <td>8</td>\n      <td>Ensino Médio Completo</td>\n      <td>R$ 1,750.00</td>\n    </tr>\n    <tr>\n      <th>7</th>\n      <td>V_16</td>\n      <td>16/08/2012</td>\n      <td>49</td>\n      <td>8</td>\n      <td>Ensino Médio Completo</td>\n      <td>R$ 1,750.00</td>\n    </tr>\n    <tr>\n      <th>8</th>\n      <td>V_17</td>\n      <td>25/06/2016</td>\n      <td>22</td>\n      <td>8</td>\n      <td>Ensino Médio Completo</td>\n      <td>R$ 1,750.00</td>\n    </tr>\n    <tr>\n      <th>9</th>\n      <td>V_18</td>\n      <td>23/02/2019</td>\n      <td>20</td>\n      <td>6</td>\n      <td>Ensino Médio Completo</td>\n      <td>R$ 1,750.00</td>\n    </tr>\n    <tr>\n      <th>10</th>\n      <td>V_19</td>\n      <td>19/03/2016</td>\n      <td>39</td>\n      <td>6</td>\n      <td>Ensino Médio Completo</td>\n      <td>R$ 1,750.00</td>\n    </tr>\n    <tr>\n      <th>11</th>\n      <td>V_2</td>\n      <td>18/12/2019</td>\n      <td>22</td>\n      <td>6</td>\n      <td>Ensino Médio Completo</td>\n      <td>R$ 1,750.00</td>\n    </tr>\n    <tr>\n      <th>12</th>\n      <td>V_20</td>\n      <td>18/04/2017</td>\n      <td>34</td>\n      <td>8</td>\n      <td>Ensino Médio Completo</td>\n      <td>R$ 1,750.00</td>\n    </tr>\n    <tr>\n      <th>13</th>\n      <td>V_21</td>\n      <td>27/08/2010</td>\n      <td>35</td>\n      <td>6</td>\n      <td>Ensino Médio Completo</td>\n      <td>R$ 1,750.00</td>\n    </tr>\n    <tr>\n      <th>14</th>\n      <td>V_22</td>\n      <td>09/11/2011</td>\n      <td>26</td>\n      <td>6</td>\n      <td>Ensino Médio Completo</td>\n      <td>R$ 1,750.00</td>\n    </tr>\n    <tr>\n      <th>15</th>\n      <td>V_23</td>\n      <td>18/11/2015</td>\n      <td>26</td>\n      <td>6</td>\n      <td>Ensino Médio Completo</td>\n      <td>R$ 1,750.00</td>\n    </tr>\n    <tr>\n      <th>16</th>\n      <td>V_24</td>\n      <td>22/02/2019</td>\n      <td>22</td>\n      <td>8</td>\n      <td>Ensino Médio Completo</td>\n      <td>R$ 1,750.00</td>\n    </tr>\n    <tr>\n      <th>17</th>\n      <td>V_25</td>\n      <td>27/05/2012</td>\n      <td>32</td>\n      <td>8</td>\n      <td>Ensino Médio Completo</td>\n      <td>R$ 1,750.00</td>\n    </tr>\n    <tr>\n      <th>18</th>\n      <td>V_26</td>\n      <td>22/09/2013</td>\n      <td>28</td>\n      <td>6</td>\n      <td>Ensino Médio Completo</td>\n      <td>R$ 1,750.00</td>\n    </tr>\n    <tr>\n      <th>19</th>\n      <td>V_27</td>\n      <td>19/10/2015</td>\n      <td>37</td>\n      <td>8</td>\n      <td>Ensino Médio Completo</td>\n      <td>R$ 1,750.00</td>\n    </tr>\n    <tr>\n      <th>20</th>\n      <td>V_3</td>\n      <td>17/02/2013</td>\n      <td>48</td>\n      <td>6</td>\n      <td>Ensino Superior Completo</td>\n      <td>R$ 2,000.00</td>\n    </tr>\n    <tr>\n      <th>21</th>\n      <td>V_30</td>\n      <td>06/01/2011</td>\n      <td>20</td>\n      <td>6</td>\n      <td>Ensino Superior Completo</td>\n      <td>R$ 2,000.00</td>\n    </tr>\n    <tr>\n      <th>22</th>\n      <td>V_31</td>\n      <td>17/10/2019</td>\n      <td>47</td>\n      <td>6</td>\n      <td>Ensino Superior Completo</td>\n      <td>R$ 2,000.00</td>\n    </tr>\n    <tr>\n      <th>23</th>\n      <td>V_32</td>\n      <td>12/08/2013</td>\n      <td>33</td>\n      <td>8</td>\n      <td>Ensino Superior Completo</td>\n      <td>R$ 2,000.00</td>\n    </tr>\n    <tr>\n      <th>24</th>\n      <td>V_34</td>\n      <td>30/05/2010</td>\n      <td>39</td>\n      <td>6</td>\n      <td>Ensino Superior Completo</td>\n      <td>R$ 2,000.00</td>\n    </tr>\n    <tr>\n      <th>25</th>\n      <td>V_36</td>\n      <td>22/05/2010</td>\n      <td>22</td>\n      <td>6</td>\n      <td>Ensino Superior Completo</td>\n      <td>R$ 2,000.00</td>\n    </tr>\n    <tr>\n      <th>26</th>\n      <td>V_39</td>\n      <td>29/02/2012</td>\n      <td>23</td>\n      <td>6</td>\n      <td>Ensino Superior Completo</td>\n      <td>R$ 2,000.00</td>\n    </tr>\n    <tr>\n      <th>27</th>\n      <td>V_4</td>\n      <td>19/08/2014</td>\n      <td>46</td>\n      <td>8</td>\n      <td>Ensino Superior Completo</td>\n      <td>R$ 2,000.00</td>\n    </tr>\n    <tr>\n      <th>28</th>\n      <td>V_40</td>\n      <td>28/04/2018</td>\n      <td>38</td>\n      <td>8</td>\n      <td>Ensino Superior Completo</td>\n      <td>R$ 2,000.00</td>\n    </tr>\n    <tr>\n      <th>29</th>\n      <td>V_41</td>\n      <td>27/02/2015</td>\n      <td>41</td>\n      <td>6</td>\n      <td>Ensino Superior Completo</td>\n      <td>R$ 2,000.00</td>\n    </tr>\n    <tr>\n      <th>30</th>\n      <td>V_45</td>\n      <td>07/10/2017</td>\n      <td>33</td>\n      <td>6</td>\n      <td>Ensino Superior Completo</td>\n      <td>R$ 2,000.00</td>\n    </tr>\n    <tr>\n      <th>31</th>\n      <td>V_46</td>\n      <td>29/07/2015</td>\n      <td>35</td>\n      <td>8</td>\n      <td>Pós Graduação Completa</td>\n      <td>R$ 2,500.00</td>\n    </tr>\n    <tr>\n      <th>32</th>\n      <td>V_47</td>\n      <td>08/08/2011</td>\n      <td>29</td>\n      <td>6</td>\n      <td>Pós Graduação Completa</td>\n      <td>R$ 2,500.00</td>\n    </tr>\n    <tr>\n      <th>33</th>\n      <td>V_5</td>\n      <td>01/09/2010</td>\n      <td>49</td>\n      <td>6</td>\n      <td>Pós Graduação Completa</td>\n      <td>R$ 2,500.00</td>\n    </tr>\n    <tr>\n      <th>34</th>\n      <td>V_6</td>\n      <td>15/08/2011</td>\n      <td>45</td>\n      <td>6</td>\n      <td>Pós Graduação Completa</td>\n      <td>R$ 2,500.00</td>\n    </tr>\n    <tr>\n      <th>35</th>\n      <td>V_7</td>\n      <td>11/02/2017</td>\n      <td>50</td>\n      <td>8</td>\n      <td>Pós Graduação Completa</td>\n      <td>R$ 2,500.00</td>\n    </tr>\n    <tr>\n      <th>36</th>\n      <td>V_8</td>\n      <td>08/02/2019</td>\n      <td>46</td>\n      <td>8</td>\n      <td>Pós Graduação Completa</td>\n      <td>R$ 2,500.00</td>\n    </tr>\n    <tr>\n      <th>37</th>\n      <td>V_9</td>\n      <td>28/09/2018</td>\n      <td>31</td>\n      <td>8</td>\n      <td>Mestrado</td>\n      <td>R$ 4,000.00</td>\n    </tr>\n  </tbody>\n</table>\n</div>"
     },
     "execution_count": 59,
     "metadata": {},
     "output_type": "execute_result"
    }
   ],
   "source": [
    "vendedores = pd.read_json(\"data/vendedores.json\")\n",
    "vendedores.head(40)"
   ],
   "metadata": {
    "collapsed": false,
    "ExecuteTime": {
     "end_time": "2023-06-02T22:07:12.004688660Z",
     "start_time": "2023-06-02T22:07:11.991038024Z"
    }
   }
  },
  {
   "cell_type": "code",
   "execution_count": 60,
   "outputs": [
    {
     "data": {
      "text/plain": "  produto_id  preco_base desconto_maximo  custo_de_producao\n0          A        5000             20%               1300\n1          B      112000             50%              30000\n2          C        2000             50%                600\n3          D        1900             10%                500\n4          E       40000             20%              10000\n5          F        2000             10%               1300",
      "text/html": "<div>\n<style scoped>\n    .dataframe tbody tr th:only-of-type {\n        vertical-align: middle;\n    }\n\n    .dataframe tbody tr th {\n        vertical-align: top;\n    }\n\n    .dataframe thead th {\n        text-align: right;\n    }\n</style>\n<table border=\"1\" class=\"dataframe\">\n  <thead>\n    <tr style=\"text-align: right;\">\n      <th></th>\n      <th>produto_id</th>\n      <th>preco_base</th>\n      <th>desconto_maximo</th>\n      <th>custo_de_producao</th>\n    </tr>\n  </thead>\n  <tbody>\n    <tr>\n      <th>0</th>\n      <td>A</td>\n      <td>5000</td>\n      <td>20%</td>\n      <td>1300</td>\n    </tr>\n    <tr>\n      <th>1</th>\n      <td>B</td>\n      <td>112000</td>\n      <td>50%</td>\n      <td>30000</td>\n    </tr>\n    <tr>\n      <th>2</th>\n      <td>C</td>\n      <td>2000</td>\n      <td>50%</td>\n      <td>600</td>\n    </tr>\n    <tr>\n      <th>3</th>\n      <td>D</td>\n      <td>1900</td>\n      <td>10%</td>\n      <td>500</td>\n    </tr>\n    <tr>\n      <th>4</th>\n      <td>E</td>\n      <td>40000</td>\n      <td>20%</td>\n      <td>10000</td>\n    </tr>\n    <tr>\n      <th>5</th>\n      <td>F</td>\n      <td>2000</td>\n      <td>10%</td>\n      <td>1300</td>\n    </tr>\n  </tbody>\n</table>\n</div>"
     },
     "execution_count": 60,
     "metadata": {},
     "output_type": "execute_result"
    }
   ],
   "source": [
    "produtos = pd.read_json(\"data/produtos.json\")\n",
    "produtos.head(40)"
   ],
   "metadata": {
    "collapsed": false,
    "ExecuteTime": {
     "end_time": "2023-06-02T22:07:13.081360240Z",
     "start_time": "2023-06-02T22:07:13.071762618Z"
    }
   }
  },
  {
   "cell_type": "code",
   "execution_count": 61,
   "outputs": [
    {
     "name": "stdout",
     "output_type": "stream",
     "text": [
      "{'V_15', 'V_12', 'V_34', 'V_45', 'V_1', 'V_8', 'V_9', 'V_11', 'V_36', 'V_19', 'V_41', 'V_22', 'V_25', 'V_46', nan, 'V_40', 'V_6', 'V_4', 'V_16', 'V_2', 'V_26', 'V_18', 'V_10', 'V_13', 'V_24', 'V_3'}\n",
      "{nan}\n"
     ]
    }
   ],
   "source": [
    "print(set(vendas[\"produto\"]).difference(set(produtos[\"produto_id\"])))\n",
    "print(set(vendas[\"vendedor_id\"]).difference(set(vendedores[\"vendedor_id\"])))"
   ],
   "metadata": {
    "collapsed": false,
    "ExecuteTime": {
     "end_time": "2023-06-02T22:07:14.844597437Z",
     "start_time": "2023-06-02T22:07:14.840539737Z"
    }
   }
  },
  {
   "cell_type": "markdown",
   "source": [
    "# Exercício 1.1\n",
    "\n",
    "**Quais os problemas de negócio o dataset poderia resolver? Existem problemas\n",
    "relacionados à consistência dos dados no dataset? Como você resolveria tais\n",
    "problemas?**\n",
    "\n",
    "Pelo nome das tabelas, parece que a tabela \"vendas\" seria uma tabela fato registrando eventos de venda, com os datasets \"produtos\" e \"vendedores\"\n",
    "servindo como tabelas dimensão. No entanto, diversos notei diversos problemas em como a tabela fato \"vendas\" foi construída, conforme indicado abaixo.\n",
    "\n",
    "Como solução, primeiro verificaria o banco OLTP para ver se o problema está na produção do dado, cabendo ao engenheiro de dados alertar o time responsável pela produção.\n",
    "Se estiver certo, então o problema está na extração dos dados, necessitando o processo seja debugado e corrigido."
   ],
   "metadata": {
    "collapsed": false
   }
  },
  {
   "cell_type": "markdown",
   "source": [
    "- As colunas \"produto\" e \"vendedor_id\", que me parecem ser chaves estrangeiras estrangeiras para as tabelas dimensão, estão com problemas de integridade. Estão com referências inválidas para as suas tabelas dimensão ou até mesmo não possuem referências."
   ],
   "metadata": {
    "collapsed": false
   }
  },
  {
   "cell_type": "code",
   "execution_count": 64,
   "outputs": [
    {
     "name": "stdout",
     "output_type": "stream",
     "text": [
      "{'V_15', 'V_12', 'V_34', 'V_45', 'V_1', 'V_8', 'V_9', 'V_11', 'V_36', 'V_19', 'V_41', 'V_22', 'V_25', 'V_46', nan, 'V_40', 'V_6', 'V_4', 'V_16', 'V_2', 'V_26', 'V_18', 'V_10', 'V_13', 'V_24', 'V_3'}\n",
      "\n",
      "{nan}\n"
     ]
    }
   ],
   "source": [
    "print(set(vendas[\"produto\"]).difference(set(produtos[\"produto_id\"])), end=\"\\n\\n\")\n",
    "\n",
    "print(set(vendas[\"vendedor_id\"]).difference(set(vendedores[\"vendedor_id\"])))"
   ],
   "metadata": {
    "collapsed": false,
    "ExecuteTime": {
     "end_time": "2023-06-02T22:17:40.067444289Z",
     "start_time": "2023-06-02T22:17:40.024733452Z"
    }
   }
  },
  {
   "cell_type": "markdown",
   "source": [
    "- As colunas \"valor_venda\", \"pol_comissao\", \"valor_comissao\", \"estado_cliente\", \"estado_vendedor\" estão com problemas de validade, possuindo valores fora do domínio de cada coluna. Parece que a matriz de valores foi embaralhada, misturando os valores."
   ],
   "metadata": {
    "collapsed": false
   }
  },
  {
   "cell_type": "code",
   "execution_count": 65,
   "outputs": [
    {
     "name": "stdout",
     "output_type": "stream",
     "text": [
      "valor_venda: ['un.' '1.0%' '432000.00' '620000.00' '744000.00' '780000.00' '910000.00'\n",
      " '936000.00' '1092000.00' '2000.00' '2400.00' '3200.00' '3840.00'\n",
      " '4500.00' '5400.00' '7250.00' '7400.00' '8700.00' '8750.00' '8880.00'\n",
      " '9600.00' '10500.00' '11520.00' '12000.00' '14400.00' '2.6%' '17400.00'\n",
      " '80000.00' '96000.00' '120000.00' '144000.00' '150000.00' '4.0%'\n",
      " '180000.00' '216000.00']\n",
      "\n",
      "pol_comissao: ['750.00' '2800.00' '3360.00' '3600.00' '1.0%' '2.6%' nan '100.00'\n",
      " '450.00' '4.0%' '6000.00']\n",
      "\n",
      "valor_comissao: ['SC' 'PR' 'RJ' 'SP' 'RS' 'MG' '4320.00' '6200.00' nan '7800.00' '9360.00'\n",
      " '10920.00' '52.00' '62.40' 'BA' '99.84' '117.00' '140.40' '188.50'\n",
      " '226.20' '227.50' '249.60' '273.00' '312.00' '374.40' '452.40' 'AL' 'PE'\n",
      " 'AC' '3200.00' '3840.00' '4800.00' '5760.00' '6000.00' '7200.00'\n",
      " '8640.00']\n",
      "\n",
      "estado_cliente: ['PR' 'A' 'RS' 'SC' 'SP' 'MG' 'B' 'PE' 'BA' 'RJ' 'C' 'F' 'D' 'AC' 'AL']\n",
      "\n",
      "estado_vendedor: ['A' 'V_23' 'V_30' 'V_20' 'V_22' 'V_25' 'V_24' 'B' 'V_47' 'SC' 'C' 'SP'\n",
      " 'MG' 'V_32' 'V_17' 'V_31' 'V_34' 'V_21' 'F' 'V_39' 'V_27' 'D' 'V_26'\n",
      " 'V_19' 'E' 'RS']\n",
      "\n"
     ]
    }
   ],
   "source": [
    "for column in [\"valor_venda\", \"pol_comissao\", \"valor_comissao\", \"estado_cliente\", \"estado_vendedor\"]:\n",
    "    print(f\"{column}: {vendas[column].unique()}\\n\")"
   ],
   "metadata": {
    "collapsed": false,
    "ExecuteTime": {
     "end_time": "2023-06-02T22:17:41.521405625Z",
     "start_time": "2023-06-02T22:17:41.475367675Z"
    }
   }
  },
  {
   "cell_type": "code",
   "execution_count": null,
   "outputs": [],
   "source": [],
   "metadata": {
    "collapsed": false
   }
  }
 ],
 "metadata": {
  "kernelspec": {
   "display_name": "Python 3 (ipykernel)",
   "language": "python",
   "name": "python3"
  },
  "language_info": {
   "codemirror_mode": {
    "name": "ipython",
    "version": 3
   },
   "file_extension": ".py",
   "mimetype": "text/x-python",
   "name": "python",
   "nbconvert_exporter": "python",
   "pygments_lexer": "ipython3",
   "version": "3.11.0rc1"
  }
 },
 "nbformat": 4,
 "nbformat_minor": 4
}
