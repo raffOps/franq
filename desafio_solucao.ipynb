{
 "cells": [
  {
   "cell_type": "code",
   "execution_count": 1,
   "metadata": {},
   "outputs": [
    {
     "name": "stdout",
     "output_type": "stream",
     "text": [
      "\n",
      "\u001b[1m[\u001b[0m\u001b[34;49mnotice\u001b[0m\u001b[1;39;49m]\u001b[0m\u001b[39;49m A new release of pip available: \u001b[0m\u001b[31;49m22.3.1\u001b[0m\u001b[39;49m -> \u001b[0m\u001b[32;49m23.1.2\u001b[0m\n",
      "\u001b[1m[\u001b[0m\u001b[34;49mnotice\u001b[0m\u001b[1;39;49m]\u001b[0m\u001b[39;49m To update, run: \u001b[0m\u001b[32;49mpip install --upgrade pip\u001b[0m\n"
     ]
    }
   ],
   "source": [
    "! pip install -q pandas"
   ]
  },
  {
   "cell_type": "code",
   "execution_count": 2,
   "metadata": {
    "ExecuteTime": {
     "end_time": "2023-06-02T22:07:11.058415461Z",
     "start_time": "2023-06-02T22:07:11.055112210Z"
    }
   },
   "outputs": [],
   "source": [
    "import pandas as pd"
   ]
  },
  {
   "cell_type": "code",
   "execution_count": 7,
   "metadata": {
    "ExecuteTime": {
     "end_time": "2023-06-02T22:07:11.369228269Z",
     "start_time": "2023-06-02T22:07:11.363225134Z"
    },
    "collapsed": false,
    "jupyter": {
     "outputs_hidden": false
    }
   },
   "outputs": [
    {
     "data": {
      "text/html": [
       "<div>\n",
       "<style scoped>\n",
       "    .dataframe tbody tr th:only-of-type {\n",
       "        vertical-align: middle;\n",
       "    }\n",
       "\n",
       "    .dataframe tbody tr th {\n",
       "        vertical-align: top;\n",
       "    }\n",
       "\n",
       "    .dataframe thead th {\n",
       "        text-align: right;\n",
       "    }\n",
       "</style>\n",
       "<table border=\"1\" class=\"dataframe\">\n",
       "  <thead>\n",
       "    <tr style=\"text-align: right;\">\n",
       "      <th></th>\n",
       "      <th>data_solicitacao</th>\n",
       "      <th>data_venda</th>\n",
       "      <th>data_pagto</th>\n",
       "      <th>valor_venda</th>\n",
       "      <th>pol_comissao</th>\n",
       "      <th>valor_comissao</th>\n",
       "      <th>estado_cliente</th>\n",
       "      <th>estado_vendedor</th>\n",
       "      <th>produto</th>\n",
       "      <th>vendedor_id</th>\n",
       "    </tr>\n",
       "  </thead>\n",
       "  <tbody>\n",
       "    <tr>\n",
       "      <th>0</th>\n",
       "      <td>13/01/2021</td>\n",
       "      <td>12/01/2021</td>\n",
       "      <td>01/02/2021</td>\n",
       "      <td>un.</td>\n",
       "      <td>750.00</td>\n",
       "      <td>SC</td>\n",
       "      <td>PR</td>\n",
       "      <td>A</td>\n",
       "      <td>V_1</td>\n",
       "      <td>NaN</td>\n",
       "    </tr>\n",
       "    <tr>\n",
       "      <th>1</th>\n",
       "      <td>14/02/2021</td>\n",
       "      <td>16/02/2021</td>\n",
       "      <td>01/03/2021</td>\n",
       "      <td>un.</td>\n",
       "      <td>750.00</td>\n",
       "      <td>SC</td>\n",
       "      <td>PR</td>\n",
       "      <td>A</td>\n",
       "      <td>V_1</td>\n",
       "      <td>NaN</td>\n",
       "    </tr>\n",
       "    <tr>\n",
       "      <th>2</th>\n",
       "      <td>17/02/2021</td>\n",
       "      <td>18/02/2021</td>\n",
       "      <td>01/03/2021</td>\n",
       "      <td>un.</td>\n",
       "      <td>750.00</td>\n",
       "      <td>PR</td>\n",
       "      <td>A</td>\n",
       "      <td>V_23</td>\n",
       "      <td>NaN</td>\n",
       "      <td>NaN</td>\n",
       "    </tr>\n",
       "    <tr>\n",
       "      <th>3</th>\n",
       "      <td>21/03/2021</td>\n",
       "      <td>25/03/2021</td>\n",
       "      <td>01/04/2021</td>\n",
       "      <td>un.</td>\n",
       "      <td>750.00</td>\n",
       "      <td>PR</td>\n",
       "      <td>A</td>\n",
       "      <td>V_23</td>\n",
       "      <td>NaN</td>\n",
       "      <td>NaN</td>\n",
       "    </tr>\n",
       "    <tr>\n",
       "      <th>4</th>\n",
       "      <td>29/01/2021</td>\n",
       "      <td>31/01/2021</td>\n",
       "      <td>01/03/2021</td>\n",
       "      <td>un.</td>\n",
       "      <td>750.00</td>\n",
       "      <td>PR</td>\n",
       "      <td>A</td>\n",
       "      <td>V_30</td>\n",
       "      <td>NaN</td>\n",
       "      <td>NaN</td>\n",
       "    </tr>\n",
       "  </tbody>\n",
       "</table>\n",
       "</div>"
      ],
      "text/plain": [
       "  data_solicitacao  data_venda  data_pagto valor_venda pol_comissao  \\\n",
       "0       13/01/2021  12/01/2021  01/02/2021         un.       750.00   \n",
       "1       14/02/2021  16/02/2021  01/03/2021         un.       750.00   \n",
       "2       17/02/2021  18/02/2021  01/03/2021         un.       750.00   \n",
       "3       21/03/2021  25/03/2021  01/04/2021         un.       750.00   \n",
       "4       29/01/2021  31/01/2021  01/03/2021         un.       750.00   \n",
       "\n",
       "  valor_comissao estado_cliente estado_vendedor produto vendedor_id  \n",
       "0             SC             PR               A     V_1         NaN  \n",
       "1             SC             PR               A     V_1         NaN  \n",
       "2             PR              A            V_23     NaN         NaN  \n",
       "3             PR              A            V_23     NaN         NaN  \n",
       "4             PR              A            V_30     NaN         NaN  "
      ]
     },
     "execution_count": 7,
     "metadata": {},
     "output_type": "execute_result"
    }
   ],
   "source": [
    "vendas = pd.read_csv(\"data/base_vendas.csv\", sep=\";\")\n",
    "vendas = vendas.drop(columns=[\"Unnamed: 10\"])\n",
    "vendas.head()"
   ]
  },
  {
   "cell_type": "code",
   "execution_count": 8,
   "metadata": {
    "ExecuteTime": {
     "end_time": "2023-06-02T22:07:12.004688660Z",
     "start_time": "2023-06-02T22:07:11.991038024Z"
    },
    "collapsed": false,
    "jupyter": {
     "outputs_hidden": false
    }
   },
   "outputs": [
    {
     "data": {
      "text/html": [
       "<div>\n",
       "<style scoped>\n",
       "    .dataframe tbody tr th:only-of-type {\n",
       "        vertical-align: middle;\n",
       "    }\n",
       "\n",
       "    .dataframe tbody tr th {\n",
       "        vertical-align: top;\n",
       "    }\n",
       "\n",
       "    .dataframe thead th {\n",
       "        text-align: right;\n",
       "    }\n",
       "</style>\n",
       "<table border=\"1\" class=\"dataframe\">\n",
       "  <thead>\n",
       "    <tr style=\"text-align: right;\">\n",
       "      <th></th>\n",
       "      <th>vendedor_id</th>\n",
       "      <th>data_de_entrada</th>\n",
       "      <th>idade</th>\n",
       "      <th>carga_horaria_diaria</th>\n",
       "      <th>escolaridade</th>\n",
       "      <th>salario_bruto</th>\n",
       "    </tr>\n",
       "  </thead>\n",
       "  <tbody>\n",
       "    <tr>\n",
       "      <th>0</th>\n",
       "      <td>V_1</td>\n",
       "      <td>14/06/2016</td>\n",
       "      <td>27</td>\n",
       "      <td>8</td>\n",
       "      <td>Ensino Médio Completo</td>\n",
       "      <td>R$ 1,750.00</td>\n",
       "    </tr>\n",
       "    <tr>\n",
       "      <th>1</th>\n",
       "      <td>V_10</td>\n",
       "      <td>15/09/2011</td>\n",
       "      <td>50</td>\n",
       "      <td>6</td>\n",
       "      <td>Ensino Médio Completo</td>\n",
       "      <td>R$ 1,750.00</td>\n",
       "    </tr>\n",
       "    <tr>\n",
       "      <th>2</th>\n",
       "      <td>V_11</td>\n",
       "      <td>23/07/2011</td>\n",
       "      <td>47</td>\n",
       "      <td>6</td>\n",
       "      <td>Ensino Médio Completo</td>\n",
       "      <td>R$ 1,750.00</td>\n",
       "    </tr>\n",
       "    <tr>\n",
       "      <th>3</th>\n",
       "      <td>V_12</td>\n",
       "      <td>16/09/2016</td>\n",
       "      <td>43</td>\n",
       "      <td>6</td>\n",
       "      <td>Ensino Médio Completo</td>\n",
       "      <td>R$ 1,750.00</td>\n",
       "    </tr>\n",
       "    <tr>\n",
       "      <th>4</th>\n",
       "      <td>V_13</td>\n",
       "      <td>11/08/2014</td>\n",
       "      <td>25</td>\n",
       "      <td>8</td>\n",
       "      <td>Ensino Médio Completo</td>\n",
       "      <td>R$ 1,750.00</td>\n",
       "    </tr>\n",
       "  </tbody>\n",
       "</table>\n",
       "</div>"
      ],
      "text/plain": [
       "  vendedor_id data_de_entrada  idade  carga_horaria_diaria  \\\n",
       "0         V_1      14/06/2016     27                     8   \n",
       "1        V_10      15/09/2011     50                     6   \n",
       "2        V_11      23/07/2011     47                     6   \n",
       "3        V_12      16/09/2016     43                     6   \n",
       "4        V_13      11/08/2014     25                     8   \n",
       "\n",
       "            escolaridade  salario_bruto  \n",
       "0  Ensino Médio Completo   R$ 1,750.00   \n",
       "1  Ensino Médio Completo   R$ 1,750.00   \n",
       "2  Ensino Médio Completo   R$ 1,750.00   \n",
       "3  Ensino Médio Completo   R$ 1,750.00   \n",
       "4  Ensino Médio Completo   R$ 1,750.00   "
      ]
     },
     "execution_count": 8,
     "metadata": {},
     "output_type": "execute_result"
    }
   ],
   "source": [
    "vendedores = pd.read_json(\"data/vendedores.json\")\n",
    "vendedores.head()"
   ]
  },
  {
   "cell_type": "code",
   "execution_count": 9,
   "metadata": {
    "ExecuteTime": {
     "end_time": "2023-06-02T22:07:13.081360240Z",
     "start_time": "2023-06-02T22:07:13.071762618Z"
    },
    "collapsed": false,
    "jupyter": {
     "outputs_hidden": false
    }
   },
   "outputs": [
    {
     "data": {
      "text/html": [
       "<div>\n",
       "<style scoped>\n",
       "    .dataframe tbody tr th:only-of-type {\n",
       "        vertical-align: middle;\n",
       "    }\n",
       "\n",
       "    .dataframe tbody tr th {\n",
       "        vertical-align: top;\n",
       "    }\n",
       "\n",
       "    .dataframe thead th {\n",
       "        text-align: right;\n",
       "    }\n",
       "</style>\n",
       "<table border=\"1\" class=\"dataframe\">\n",
       "  <thead>\n",
       "    <tr style=\"text-align: right;\">\n",
       "      <th></th>\n",
       "      <th>produto_id</th>\n",
       "      <th>preco_base</th>\n",
       "      <th>desconto_maximo</th>\n",
       "      <th>custo_de_producao</th>\n",
       "    </tr>\n",
       "  </thead>\n",
       "  <tbody>\n",
       "    <tr>\n",
       "      <th>0</th>\n",
       "      <td>A</td>\n",
       "      <td>5000</td>\n",
       "      <td>20%</td>\n",
       "      <td>1300</td>\n",
       "    </tr>\n",
       "    <tr>\n",
       "      <th>1</th>\n",
       "      <td>B</td>\n",
       "      <td>112000</td>\n",
       "      <td>50%</td>\n",
       "      <td>30000</td>\n",
       "    </tr>\n",
       "    <tr>\n",
       "      <th>2</th>\n",
       "      <td>C</td>\n",
       "      <td>2000</td>\n",
       "      <td>50%</td>\n",
       "      <td>600</td>\n",
       "    </tr>\n",
       "    <tr>\n",
       "      <th>3</th>\n",
       "      <td>D</td>\n",
       "      <td>1900</td>\n",
       "      <td>10%</td>\n",
       "      <td>500</td>\n",
       "    </tr>\n",
       "    <tr>\n",
       "      <th>4</th>\n",
       "      <td>E</td>\n",
       "      <td>40000</td>\n",
       "      <td>20%</td>\n",
       "      <td>10000</td>\n",
       "    </tr>\n",
       "  </tbody>\n",
       "</table>\n",
       "</div>"
      ],
      "text/plain": [
       "  produto_id  preco_base desconto_maximo  custo_de_producao\n",
       "0          A        5000             20%               1300\n",
       "1          B      112000             50%              30000\n",
       "2          C        2000             50%                600\n",
       "3          D        1900             10%                500\n",
       "4          E       40000             20%              10000"
      ]
     },
     "execution_count": 9,
     "metadata": {},
     "output_type": "execute_result"
    }
   ],
   "source": [
    "produtos = pd.read_json(\"data/produtos.json\")\n",
    "produtos.head()"
   ]
  },
  {
   "cell_type": "markdown",
   "metadata": {
    "collapsed": false,
    "jupyter": {
     "outputs_hidden": false
    }
   },
   "source": [
    "# Exercício 1.1\n",
    "\n",
    "**Quais os problemas de negócio o dataset poderia resolver? Existem problemas relacionados à consistência dos dados no dataset? Como você resolveria tais problemas?**\n",
    "\n",
    "Pelo nome das tabelas, parece que a tabela \"vendas\" seria uma tabela fato registrando eventos de venda, com os datasets \"produtos\" e \"vendedores\"\n",
    "servindo como tabelas dimensão. No entanto, notei diversos problemas em como a tabela fato \"vendas\" foi construída, conforme indicado abaixo.\n",
    "\n",
    "Como solução imediata, verificaria se o problema está na produção ou na extração do dado. É importante que esse processo de solução seja automatizado o máximo possível, com testes automáticos sobre a qualidade dos dados, envio de alertas, definição de data owners, etc."
   ]
  },
  {
   "cell_type": "markdown",
   "metadata": {},
   "source": [
    "### Problemas de qualidade nos dados"
   ]
  },
  {
   "cell_type": "markdown",
   "metadata": {
    "collapsed": false,
    "jupyter": {
     "outputs_hidden": false
    }
   },
   "source": [
    "- As colunas \"produto\" e \"vendedor_id\", que me parecem ser chaves estrangeiras estrangeiras para as tabelas dimensão, estão com problemas de integridade. Estão com referências inválidas para as suas tabelas dimensão ou até mesmo não possuem referências."
   ]
  },
  {
   "cell_type": "code",
   "execution_count": 8,
   "metadata": {
    "collapsed": false,
    "is_executing": true,
    "jupyter": {
     "outputs_hidden": false
    }
   },
   "outputs": [
    {
     "name": "stdout",
     "output_type": "stream",
     "text": [
      "{'V_45', 'V_34', 'V_11', 'V_46', 'V_24', 'V_26', 'V_1', 'V_10', 'V_22', 'V_2', 'V_16', 'V_25', 'V_15', nan, 'V_6', 'V_3', 'V_40', 'V_19', 'V_9', 'V_18', 'V_41', 'V_12', 'V_36', 'V_4', 'V_13', 'V_8'}\n",
      "\n",
      "{nan}\n"
     ]
    }
   ],
   "source": [
    "print(set(vendas[\"produto\"]).difference(set(produtos[\"produto_id\"])), end=\"\\n\\n\")\n",
    "print(set(vendas[\"vendedor_id\"]).difference(set(vendedores[\"vendedor_id\"])))"
   ]
  },
  {
   "cell_type": "markdown",
   "metadata": {
    "collapsed": false,
    "jupyter": {
     "outputs_hidden": false
    }
   },
   "source": [
    "- As colunas \"valor_venda\", \"pol_comissao\", \"valor_comissao\", \"estado_cliente\", \"estado_vendedor\" estão com problemas de validade, possuindo valores fora do domínio de cada coluna. Parece que a matriz de valores foi embaralhada, misturando os valores."
   ]
  },
  {
   "cell_type": "code",
   "execution_count": 9,
   "metadata": {
    "ExecuteTime": {
     "end_time": "2023-06-02T22:17:41.521405625Z",
     "start_time": "2023-06-02T22:17:41.475367675Z"
    },
    "collapsed": false,
    "jupyter": {
     "outputs_hidden": false
    }
   },
   "outputs": [
    {
     "name": "stdout",
     "output_type": "stream",
     "text": [
      "valor_venda: ['un.' '1.0%' '432000.00' '620000.00' '744000.00' '780000.00' '910000.00'\n",
      " '936000.00' '1092000.00' '2000.00' '2400.00' '3200.00' '3840.00'\n",
      " '4500.00' '5400.00' '7250.00' '7400.00' '8700.00' '8750.00' '8880.00'\n",
      " '9600.00' '10500.00' '11520.00' '12000.00' '14400.00' '2.6%' '17400.00'\n",
      " '80000.00' '96000.00' '120000.00' '144000.00' '150000.00' '4.0%'\n",
      " '180000.00' '216000.00']\n",
      "\n",
      "pol_comissao: ['750.00' '2800.00' '3360.00' '3600.00' '1.0%' '2.6%' nan '100.00'\n",
      " '450.00' '4.0%' '6000.00']\n",
      "\n",
      "valor_comissao: ['SC' 'PR' 'RJ' 'SP' 'RS' 'MG' '4320.00' '6200.00' nan '7800.00' '9360.00'\n",
      " '10920.00' '52.00' '62.40' 'BA' '99.84' '117.00' '140.40' '188.50'\n",
      " '226.20' '227.50' '249.60' '273.00' '312.00' '374.40' '452.40' 'AL' 'PE'\n",
      " 'AC' '3200.00' '3840.00' '4800.00' '5760.00' '6000.00' '7200.00'\n",
      " '8640.00']\n",
      "\n",
      "estado_cliente: ['PR' 'A' 'RS' 'SC' 'SP' 'MG' 'B' 'PE' 'BA' 'RJ' 'C' 'F' 'D' 'AC' 'AL']\n",
      "\n",
      "estado_vendedor: ['A' 'V_23' 'V_30' 'V_20' 'V_22' 'V_25' 'V_24' 'B' 'V_47' 'SC' 'C' 'SP'\n",
      " 'MG' 'V_32' 'V_17' 'V_31' 'V_34' 'V_21' 'F' 'V_39' 'V_27' 'D' 'V_26'\n",
      " 'V_19' 'E' 'RS']\n",
      "\n"
     ]
    }
   ],
   "source": [
    "for column in [\"valor_venda\", \"pol_comissao\", \"valor_comissao\", \"estado_cliente\", \"estado_vendedor\"]:\n",
    "    print(f\"{column}: {vendas[column].unique()}\\n\")"
   ]
  },
  {
   "cell_type": "markdown",
   "metadata": {
    "collapsed": false,
    "jupyter": {
     "outputs_hidden": false
    }
   },
   "source": [
    "# Exercício 1.2\n",
    "\n",
    "**Elabore uma arquitetura (desenho) adequada para a disponibilização desses dados\n",
    "para o consumo da área de Business Intelligence**\n",
    "\n",
    "\n",
    "![Arquitetura](img/data_platform.png)"
   ]
  },
  {
   "cell_type": "markdown",
   "metadata": {
    "collapsed": false,
    "jupyter": {
     "outputs_hidden": false
    }
   },
   "source": [
    "# Exercício 2\n",
    "\n",
    "**Considerando o diagrama de tabelas abaixo, monte as consultas em SQL que resultam\n",
    "em:**"
   ]
  },
  {
   "cell_type": "markdown",
   "metadata": {
    "collapsed": false,
    "jupyter": {
     "outputs_hidden": false
    }
   },
   "source": [
    "A lista de alunos e o montante de mensalidade de cada um deles, somente daqueles\n",
    "que não possuem nenhuma mensalidade com o status = ‘EM ATRASO’\n",
    "\n",
    "```sql\n",
    "WITH\n",
    "    tabelao as (\n",
    "        SELECT\n",
    "            ma.* AS matricula,\n",
    "            me.* AS mensalidade,\n",
    "            a.* AS aluno\n",
    "        FROM matricula AS ma\n",
    "            INNER JOIN mensalidade AS me ON ma.id_matricula = me.id\n",
    "            INNER JOIN aluno AS a ON ma.id_aluno = a.id_aluno\n",
    "    ),\n",
    "    alunos_inadimplentes as (\n",
    "        SELECT DISTINCT(t.aluno.id) AS id\n",
    "        FROM tabelao AS t\n",
    "        WHERE t.mensalidade = 'EM ATRASO'\n",
    "    )\n",
    "SELECT\n",
    "    t.alunos.id,\n",
    "    SUM(t.mensalidade.valor) AS montante_mensalidade\n",
    "FROM tabelao AS t\n",
    "LEFT JOIN alunos_inadimplentes AS ai ON t.aluno.id = ai.id\n",
    "WHERE ai.id IS NULL\n",
    "GROUP BY t.alunos.id\n",
    "```\n"
   ]
  },
  {
   "cell_type": "markdown",
   "metadata": {
    "collapsed": false,
    "jupyter": {
     "outputs_hidden": false
    }
   },
   "source": [
    "A lista com o nome dos alunos que possuem sua primeira matrícula na instituição\n",
    "no semestre atual, estão matriculados na disciplina ‘Física I’ e não possuem\n",
    "mensalidades registradas no sistema.\n",
    "\n",
    "```sql\n",
    "WITH\n",
    "    alunos_novos as (\n",
    "        SELECT\n",
    "            a.id AS id\n",
    "        FROM matricula AS ma\n",
    "            INNER JOIN aluno AS a ON ma.id_aluno = a.id_aluno\n",
    "        WHERE CURRENT_DATE() >= ma.periodo_letivo_inicio\n",
    "                AND CURRENT_DATE() <= ma.periodo_letivo_fim\n",
    "        GROUP BY a.id\n",
    "        HAVING COUNT(ma.dt_matricula) = 1\n",
    "    ),\n",
    "    matriculas_em_fisica_1 AS (\n",
    "        SELECT\n",
    "            ma.id AS id\n",
    "        FROM matricula AS ma\n",
    "            INNER JOIN turma AS a ON ma.id_turma = t.id\n",
    "            INNER JOIN disciplina AS d ON t.id_disciplina = d.id\n",
    "        WHERE d.nome = 'Física I'\n",
    "    )\n",
    "SELECT\n",
    "    a.nome\n",
    "FROM matriculas_em_fisica_1 AS ma\n",
    "    INNER JOIN alunos_novos AS an ON ma.id_aluno = an.id\n",
    "    INNER JOIN aluno AS a ON an.id = a.id\n",
    "    LEFT JOIN mensalidade AS me ON ma.id_matricula = me.id\n",
    "WHERE me.id IS NULL\n",
    "```"
   ]
  },
  {
   "cell_type": "code",
   "execution_count": null,
   "metadata": {
    "collapsed": false,
    "jupyter": {
     "outputs_hidden": false
    }
   },
   "outputs": [],
   "source": []
  }
 ],
 "metadata": {
  "kernelspec": {
   "display_name": "Python 3 (ipykernel)",
   "language": "python",
   "name": "python3"
  },
  "language_info": {
   "codemirror_mode": {
    "name": "ipython",
    "version": 3
   },
   "file_extension": ".py",
   "mimetype": "text/x-python",
   "name": "python",
   "nbconvert_exporter": "python",
   "pygments_lexer": "ipython3",
   "version": "3.11.0rc1"
  }
 },
 "nbformat": 4,
 "nbformat_minor": 4
}
